{
 "cells": [
  {
   "cell_type": "markdown",
   "id": "0f0da290-7d3a-4d2f-9172-075ea19cd487",
   "metadata": {},
   "source": [
    "# Data Science Tools and Ecosystems"
   ]
  },
  {
   "cell_type": "markdown",
   "id": "2cc75c1b-88ff-4750-aaff-551051b71e18",
   "metadata": {},
   "source": [
    "In this notebook Data Science Tools and Ecosystem are summarized."
   ]
  },
  {
   "cell_type": "markdown",
   "id": "6d7b9d11-aa64-4130-baa5-2ae0a7311d85",
   "metadata": {},
   "source": [
    "**Objectives:**\n",
    "- Popular languages that Data Scientists use\n",
    "- Commonly used libraries used by Data Scientists\n",
    "- Few examples of evaluating arithmetic expressions in Python"
   ]
  },
  {
   "cell_type": "markdown",
   "id": "bcd38a14-cc6f-46f9-a083-e687113ecb6a",
   "metadata": {},
   "source": [
    "Some of the popular languages that Data Scientists use are:\n",
    "1. Python\n",
    "2. R\n",
    "3. SQL"
   ]
  },
  {
   "cell_type": "markdown",
   "id": "fa26aa92-60ed-459f-ac06-d7d91d74db97",
   "metadata": {},
   "source": [
    "Some of the commonly used libraries used by Data Scientists include:\n",
    "1. Matplotlib\n",
    "2. Pandas\n",
    "3. Numpy\n",
    "4. TensorFlow\n",
    "5. Scikit-learn\n",
    "6. SciPy"
   ]
  },
  {
   "cell_type": "markdown",
   "id": "e7c44bc1-5ae7-41cd-b249-664d80dfc05c",
   "metadata": {},
   "source": [
    "| Data Science Tools |\n",
    "| ------------------ |\n",
    "| Jupyter Notebooks |\n",
    "| RStudio |\n",
    "| Apache Hadoop |\n",
    "| TensorFlow |"
   ]
  },
  {
   "cell_type": "markdown",
   "id": "3ee9adf9-6acb-4e40-8549-bf74a407dc2e",
   "metadata": {},
   "source": [
    "### Below are a few examples of evaluating arithmetic expressions in Python:"
   ]
  },
  {
   "cell_type": "code",
   "execution_count": 9,
   "id": "e9838b89-dab9-450d-9b6d-959f4531bfd7",
   "metadata": {
    "tags": []
   },
   "outputs": [
    {
     "name": "stdout",
     "output_type": "stream",
     "text": [
      "additiion =  6\n",
      "difference =  8\n",
      "multiplication =  8\n",
      "division =  2\n"
     ]
    }
   ],
   "source": [
    "# Inputs for num1 and num2\n",
    "num1 = 4\n",
    "num2 = 2\n",
    "\n",
    "# Arithmetic Operations\n",
    "answerAddition = num1+num2\n",
    "answerDifference = num2-num1\n",
    "answerMultiplication = num1*num2\n",
    "answerDivision = num1//num2\n",
    "\n",
    "# printing examples of evaluating arithmetic expressions\n",
    "print(\"additiion = \", answerAddition)\n",
    "print(\"difference = \", answerMultiplication)\n",
    "print(\"multiplication = \", answerMultiplication)\n",
    "print(\"division = \", answerDivision)"
   ]
  },
  {
   "cell_type": "code",
   "execution_count": 14,
   "id": "a94a5450-fdd9-4a8e-b1c6-79172e5b5d55",
   "metadata": {
    "tags": []
   },
   "outputs": [
    {
     "name": "stdout",
     "output_type": "stream",
     "text": [
      "17\n"
     ]
    }
   ],
   "source": [
    "# Below is a simple arithmetic expression to multiply and then add integers\n",
    "var1 = 3\n",
    "var2 = 4\n",
    "var3 = 5\n",
    "output = (var1*var2)+var3\n",
    "print(output)"
   ]
  },
  {
   "cell_type": "code",
   "execution_count": 17,
   "id": "98d5bb79-f033-45f3-aa14-4b2ab08e57c1",
   "metadata": {
    "tags": []
   },
   "outputs": [
    {
     "name": "stdout",
     "output_type": "stream",
     "text": [
      "In Hours =  3.3333333333333335\n"
     ]
    }
   ],
   "source": [
    "# This will convert 200 minutes to hours by dividing by 60\n",
    "min = 200\n",
    "outputHours = min/60\n",
    "print(\"In Hours = \", outputHours)"
   ]
  },
  {
   "cell_type": "markdown",
   "id": "21b1e399-df38-490a-9f6e-1aabae1e6c78",
   "metadata": {},
   "source": [
    "## Author\n",
    "Jay Kapur"
   ]
  },
  {
   "cell_type": "code",
   "execution_count": null,
   "id": "13f12868-fe39-45b8-9de1-f7ae2970d38d",
   "metadata": {},
   "outputs": [],
   "source": []
  }
 ],
 "metadata": {
  "kernelspec": {
   "display_name": "Python",
   "language": "python",
   "name": "conda-env-python-py"
  },
  "language_info": {
   "codemirror_mode": {
    "name": "ipython",
    "version": 3
   },
   "file_extension": ".py",
   "mimetype": "text/x-python",
   "name": "python",
   "nbconvert_exporter": "python",
   "pygments_lexer": "ipython3",
   "version": "3.7.12"
  }
 },
 "nbformat": 4,
 "nbformat_minor": 5
}
